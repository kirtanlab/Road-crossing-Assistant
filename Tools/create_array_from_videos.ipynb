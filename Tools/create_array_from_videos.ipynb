{
 "cells": [
  {
   "cell_type": "code",
   "execution_count": 1,
   "metadata": {},
   "outputs": [
    {
     "name": "stderr",
     "output_type": "stream",
     "text": [
      "Using TensorFlow backend.\n",
      "/home/kirtan/anaconda3/envs/crossway/lib/python3.7/site-packages/tensorflow/python/framework/dtypes.py:516: FutureWarning: Passing (type, 1) or '1type' as a synonym of type is deprecated; in a future version of numpy, it will be understood as (type, (1,)) / '(1,)type'.\n",
      "  _np_qint8 = np.dtype([(\"qint8\", np.int8, 1)])\n",
      "/home/kirtan/anaconda3/envs/crossway/lib/python3.7/site-packages/tensorflow/python/framework/dtypes.py:517: FutureWarning: Passing (type, 1) or '1type' as a synonym of type is deprecated; in a future version of numpy, it will be understood as (type, (1,)) / '(1,)type'.\n",
      "  _np_quint8 = np.dtype([(\"quint8\", np.uint8, 1)])\n",
      "/home/kirtan/anaconda3/envs/crossway/lib/python3.7/site-packages/tensorflow/python/framework/dtypes.py:518: FutureWarning: Passing (type, 1) or '1type' as a synonym of type is deprecated; in a future version of numpy, it will be understood as (type, (1,)) / '(1,)type'.\n",
      "  _np_qint16 = np.dtype([(\"qint16\", np.int16, 1)])\n",
      "/home/kirtan/anaconda3/envs/crossway/lib/python3.7/site-packages/tensorflow/python/framework/dtypes.py:519: FutureWarning: Passing (type, 1) or '1type' as a synonym of type is deprecated; in a future version of numpy, it will be understood as (type, (1,)) / '(1,)type'.\n",
      "  _np_quint16 = np.dtype([(\"quint16\", np.uint16, 1)])\n",
      "/home/kirtan/anaconda3/envs/crossway/lib/python3.7/site-packages/tensorflow/python/framework/dtypes.py:520: FutureWarning: Passing (type, 1) or '1type' as a synonym of type is deprecated; in a future version of numpy, it will be understood as (type, (1,)) / '(1,)type'.\n",
      "  _np_qint32 = np.dtype([(\"qint32\", np.int32, 1)])\n",
      "/home/kirtan/anaconda3/envs/crossway/lib/python3.7/site-packages/tensorflow/python/framework/dtypes.py:525: FutureWarning: Passing (type, 1) or '1type' as a synonym of type is deprecated; in a future version of numpy, it will be understood as (type, (1,)) / '(1,)type'.\n",
      "  np_resource = np.dtype([(\"resource\", np.ubyte, 1)])\n",
      "/home/kirtan/anaconda3/envs/crossway/lib/python3.7/site-packages/tensorboard/compat/tensorflow_stub/dtypes.py:541: FutureWarning: Passing (type, 1) or '1type' as a synonym of type is deprecated; in a future version of numpy, it will be understood as (type, (1,)) / '(1,)type'.\n",
      "  _np_qint8 = np.dtype([(\"qint8\", np.int8, 1)])\n",
      "/home/kirtan/anaconda3/envs/crossway/lib/python3.7/site-packages/tensorboard/compat/tensorflow_stub/dtypes.py:542: FutureWarning: Passing (type, 1) or '1type' as a synonym of type is deprecated; in a future version of numpy, it will be understood as (type, (1,)) / '(1,)type'.\n",
      "  _np_quint8 = np.dtype([(\"quint8\", np.uint8, 1)])\n",
      "/home/kirtan/anaconda3/envs/crossway/lib/python3.7/site-packages/tensorboard/compat/tensorflow_stub/dtypes.py:543: FutureWarning: Passing (type, 1) or '1type' as a synonym of type is deprecated; in a future version of numpy, it will be understood as (type, (1,)) / '(1,)type'.\n",
      "  _np_qint16 = np.dtype([(\"qint16\", np.int16, 1)])\n",
      "/home/kirtan/anaconda3/envs/crossway/lib/python3.7/site-packages/tensorboard/compat/tensorflow_stub/dtypes.py:544: FutureWarning: Passing (type, 1) or '1type' as a synonym of type is deprecated; in a future version of numpy, it will be understood as (type, (1,)) / '(1,)type'.\n",
      "  _np_quint16 = np.dtype([(\"quint16\", np.uint16, 1)])\n",
      "/home/kirtan/anaconda3/envs/crossway/lib/python3.7/site-packages/tensorboard/compat/tensorflow_stub/dtypes.py:545: FutureWarning: Passing (type, 1) or '1type' as a synonym of type is deprecated; in a future version of numpy, it will be understood as (type, (1,)) / '(1,)type'.\n",
      "  _np_qint32 = np.dtype([(\"qint32\", np.int32, 1)])\n",
      "/home/kirtan/anaconda3/envs/crossway/lib/python3.7/site-packages/tensorboard/compat/tensorflow_stub/dtypes.py:550: FutureWarning: Passing (type, 1) or '1type' as a synonym of type is deprecated; in a future version of numpy, it will be understood as (type, (1,)) / '(1,)type'.\n",
      "  np_resource = np.dtype([(\"resource\", np.ubyte, 1)])\n"
     ]
    }
   ],
   "source": [
    "import glob\n",
    "from imageai.Detection import VideoObjectDetection\n",
    "import natsort\n",
    "import numpy as np\n",
    "import os\n",
    "import sys"
   ]
  },
  {
   "cell_type": "code",
   "execution_count": 2,
   "metadata": {},
   "outputs": [
    {
     "data": {
      "text/plain": [
       "'/home/kirtan/Documents/FYProject/Miniproject'"
      ]
     },
     "execution_count": 2,
     "metadata": {},
     "output_type": "execute_result"
    }
   ],
   "source": [
    "os.getcwd()"
   ]
  },
  {
   "cell_type": "code",
   "execution_count": 3,
   "metadata": {},
   "outputs": [],
   "source": [
    "\n",
    "def detection_of_vehicles_from_video(folder1,folder2,findex):\n",
    "\n",
    "    '''\n",
    "    Detects and saves the arrays containing bounding boxes of detected\n",
    "    vehicles from videos of a given folder\n",
    "    Parameters:\n",
    "    folder1 : path of the folder containing videos\n",
    "    folder2 : path of the folder in which arrays are required to be stored : arraysfrom_Videos\n",
    "    findex : index number of the first video in folder1 \n",
    "    '''\n",
    "\n",
    "    #modifying forFrame function of ImageAI to make a list \n",
    "    #of bounding box coordinates for vehichles detected in a \n",
    "    #particular frame \n",
    "    def forFrame(frame_number, output_array, output_count):\n",
    "            \n",
    "            bboxes = []\n",
    "            \n",
    "            for i in range(len(output_array)):\n",
    "                bboxes.append(list(output_array[i]['box_points']))\n",
    "                \n",
    "            B.append(bboxes)\n",
    "    \n",
    "    #reading and sorting the filenames of folder1\n",
    "    videos = glob.glob(folder1+'/video*.MOV')\n",
    "    videos = natsort.natsorted(videos)\n",
    "\n",
    "    #set and load ResNet Model for detection of vehicles\n",
    "    execution_path = os.getcwd()\n",
    "    detector = VideoObjectDetection()\n",
    "    detector.setModelTypeAsRetinaNet() \n",
    "    #use detector.setModelTypeAsYOLOv3() to use YOLOv3 instead of RetinaNet\n",
    "    detector.setModelPath(os.path.join(execution_path,\"./archive/resnet50_coco_best_v2.0.1.h5\"))\n",
    "    #use model path of yolo.h5 if to use YOLOv3 instead of RetinaNet\n",
    "    detector.loadModel()\n",
    "    custom_objects = detector.CustomObjects(bicycle=True, motorcycle=True,car=True,truck=True)\n",
    "\n",
    "\n",
    "    for video in videos:\n",
    "        print('processing' + video )\n",
    "        B = []\n",
    "        detector.detectCustomObjectsFromVideo(\n",
    "            save_detected_video=False,\n",
    "            custom_objects = custom_objects,\n",
    "            input_file_path=os.path.join(execution_path, video),\n",
    "            frames_per_second=30,\n",
    "            per_frame_function=forFrame,\n",
    "            minimum_percentage_probability=40)\n",
    "        B = np.array(B)\n",
    "        print('saving array for video' + video + '\\n shape of array: ' + str(B.shape))\n",
    "        print(folder2+'/array'+str(findex),B)\n",
    "        np.save(folder2+'/array'+str(findex)+'.npy',B)\n",
    "        findex = findex + 1\n",
    "        print('completed')"
   ]
  },
  {
   "cell_type": "code",
   "execution_count": null,
   "metadata": {},
   "outputs": [
    {
     "name": "stdout",
     "output_type": "stream",
     "text": [
      "WARNING:tensorflow:From /home/kirtan/anaconda3/envs/crossway/lib/python3.7/site-packages/keras/backend/tensorflow_backend.py:4070: The name tf.nn.max_pool is deprecated. Please use tf.nn.max_pool2d instead.\n",
      "\n",
      "WARNING:tensorflow:From /home/kirtan/anaconda3/envs/crossway/lib/python3.7/site-packages/imageai/Detection/keras_retinanet/backend/tensorflow_backend.py:22: The name tf.image.resize_images is deprecated. Please use tf.image.resize instead.\n",
      "\n",
      "tracking <tf.Variable 'Variable:0' shape=(9, 4) dtype=float32> anchors\n",
      "tracking <tf.Variable 'Variable_1:0' shape=(9, 4) dtype=float32> anchors\n",
      "tracking <tf.Variable 'Variable_2:0' shape=(9, 4) dtype=float32> anchors\n",
      "tracking <tf.Variable 'Variable_3:0' shape=(9, 4) dtype=float32> anchors\n",
      "tracking <tf.Variable 'Variable_4:0' shape=(9, 4) dtype=float32> anchors\n",
      "WARNING:tensorflow:From /home/kirtan/anaconda3/envs/crossway/lib/python3.7/site-packages/imageai/Detection/keras_retinanet/backend/tensorflow_backend.py:46: add_dispatch_support.<locals>.wrapper (from tensorflow.python.ops.array_ops) is deprecated and will be removed in a future version.\n",
      "Instructions for updating:\n",
      "Use tf.where in 2.0, which has the same broadcast rule as np.where\n",
      "processing./archive/Videos/Videos/video1.MOV\n",
      "WARNING:tensorflow:From /home/kirtan/anaconda3/envs/crossway/lib/python3.7/site-packages/keras/backend/tensorflow_backend.py:422: The name tf.global_variables is deprecated. Please use tf.compat.v1.global_variables instead.\n",
      "\n"
     ]
    }
   ],
   "source": [
    "detection_of_vehicles_from_video('./archive/Videos/Videos','./archive/arraysfrom_Videos',1)\n"
   ]
  }
 ],
 "metadata": {
  "kernelspec": {
   "display_name": "Python 3",
   "language": "python",
   "name": "python3"
  },
  "language_info": {
   "codemirror_mode": {
    "name": "ipython",
    "version": 3
   },
   "file_extension": ".py",
   "mimetype": "text/x-python",
   "name": "python",
   "nbconvert_exporter": "python",
   "pygments_lexer": "ipython3",
   "version": "3.7.3"
  }
 },
 "nbformat": 4,
 "nbformat_minor": 4
}
